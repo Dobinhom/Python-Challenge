{
 "cells": [
  {
   "cell_type": "code",
   "execution_count": 19,
   "id": "46d4ce79-0294-4f52-9c22-21f4eabe40b8",
   "metadata": {},
   "outputs": [],
   "source": [
    "from pathlib import Path"
   ]
  },
  {
   "cell_type": "code",
   "execution_count": 29,
   "id": "85715863-f103-43b2-a7c9-bedc804c979e",
   "metadata": {},
   "outputs": [],
   "source": [
    "import csv"
   ]
  },
  {
   "cell_type": "code",
   "execution_count": 48,
   "id": "8a8b779b-34d3-4360-8aea-63599e72e017",
   "metadata": {},
   "outputs": [],
   "source": [
    "input_file = Path(\"budget_data\")"
   ]
  },
  {
   "cell_type": "code",
   "execution_count": 81,
   "id": "350f0492-2d6a-466c-a05a-94d29d9f9f09",
   "metadata": {},
   "outputs": [
    {
     "ename": "IndentationError",
     "evalue": "unexpected indent (789587839.py, line 8)",
     "output_type": "error",
     "traceback": [
      "\u001b[1;36m  Input \u001b[1;32mIn [81]\u001b[1;36m\u001b[0m\n\u001b[1;33m    for row in csvreader:\u001b[0m\n\u001b[1;37m    ^\u001b[0m\n\u001b[1;31mIndentationError\u001b[0m\u001b[1;31m:\u001b[0m unexpected indent\n"
     ]
    }
   ],
   "source": [
    "with open(csvpath, 'r') as csvfile:\n",
    "    financial_analysis = csv.reader(csvfile)\n",
    "    csv_header = next(financial_analysis)\n",
    "    print(csv_header)\n",
    "    no_lines= len(list(financial_analysis))\n",
    "    print(no_lines)\n",
    "    net_profit = sum(1 for row in csvreader)\n",
    "        for row in csvreader:\n"
   ]
  },
  {
   "cell_type": "code",
   "execution_count": null,
   "id": "8fb3ecb7-2f61-4131-9d3b-dbf0fbac3e6c",
   "metadata": {},
   "outputs": [],
   "source": []
  }
 ],
 "metadata": {
  "kernelspec": {
   "display_name": "Python 3 (ipykernel)",
   "language": "python",
   "name": "python3"
  },
  "language_info": {
   "codemirror_mode": {
    "name": "ipython",
    "version": 3
   },
   "file_extension": ".py",
   "mimetype": "text/x-python",
   "name": "python",
   "nbconvert_exporter": "python",
   "pygments_lexer": "ipython3",
   "version": "3.9.12"
  }
 },
 "nbformat": 4,
 "nbformat_minor": 5
}
